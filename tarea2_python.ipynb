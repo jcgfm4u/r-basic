{
 "cells": [
  {
   "cell_type": "markdown",
   "id": "cb712876-1772-4852-869d-272769cdb07b",
   "metadata": {},
   "source": [
    "# Tarea 2. Función que detecte si un número es real y si es poisivo o no"
   ]
  },
  {
   "cell_type": "code",
   "execution_count": null,
   "id": "172ef0ad-a5e6-44f1-94f7-c9c2936c183e",
   "metadata": {},
   "outputs": [],
   "source": [
    "# 1. Escribe una secuenca de instrucciones que reciban un número real e indique si es positivo o no"
   ]
  },
  {
   "cell_type": "code",
   "execution_count": 1,
   "id": "f8559451-5839-4d9f-8d4f-7aa6f2fba679",
   "metadata": {},
   "outputs": [],
   "source": [
    "import math\n",
    "def es_real():\n",
    "        x = input(\"Valor a revisar: \")\n",
    "        try:\n",
    "            # Se intenta la conversión explícita del valor recibido\n",
    "            x = float(x);\n",
    "            if x > 0:\n",
    "               print(\"Es un número real y poisivo\")\n",
    "            elif x < 0:\n",
    "                print(\"Es un número real y negativo\")\n",
    "        except ValueError:\n",
    "            print(\"No es un dato válido.\")"
   ]
  },
  {
   "cell_type": "code",
   "execution_count": null,
   "id": "bf66a59f-3107-4c63-9cc5-fe1d078ed73c",
   "metadata": {},
   "outputs": [],
   "source": []
  },
  {
   "cell_type": "code",
   "execution_count": 43,
   "id": "336ecb53-1cd0-4620-a52c-2d137211e61d",
   "metadata": {},
   "outputs": [
    {
     "name": "stdin",
     "output_type": "stream",
     "text": [
      "Valor a revisar:  0.0000001\n"
     ]
    },
    {
     "name": "stdout",
     "output_type": "stream",
     "text": [
      "Es un número real y poisivo\n"
     ]
    }
   ],
   "source": [
    "es_real()"
   ]
  },
  {
   "cell_type": "code",
   "execution_count": 45,
   "id": "3fffad07-5e89-41d6-85b9-016e92aa8e6e",
   "metadata": {},
   "outputs": [
    {
     "name": "stdin",
     "output_type": "stream",
     "text": [
      "Valor a revisar:  texto\n"
     ]
    },
    {
     "name": "stdout",
     "output_type": "stream",
     "text": [
      "No es un dato válido.\n"
     ]
    }
   ],
   "source": [
    "es_real()"
   ]
  },
  {
   "cell_type": "code",
   "execution_count": 69,
   "id": "0253eda5-1307-476e-b60a-d1bc3347827b",
   "metadata": {},
   "outputs": [],
   "source": [
    "# 2. Escriba una función que permita recibir un número por la pantalla y que indique si está en el rango de de -5 a  5"
   ]
  },
  {
   "cell_type": "code",
   "execution_count": 53,
   "id": "dffd762b-4ff0-42e3-831f-842f97e20772",
   "metadata": {},
   "outputs": [],
   "source": [
    "def rango():\n",
    "    x = input(\"\")\n",
    "    lim_superior = 5\n",
    "    lim_inferior = -5\n",
    "    # Se intenta la conversión del valor\n",
    "    x = float(x)\n",
    "\n",
    "    # Una vez realizada la conversión, revisamos si está en el rango deseado\n",
    "    if(x >= -5 and x <= 5):\n",
    "        print(f\"Está en el rango entre {lim_inferior} y {lim_superior}\")\n",
    "    else:\n",
    "        print(\"Fuera de rango\")"
   ]
  },
  {
   "cell_type": "code",
   "execution_count": 65,
   "id": "6742af77-6ed6-4605-938c-c5bce05c1ade",
   "metadata": {},
   "outputs": [
    {
     "data": {
      "text/plain": [
       "3.141592653589793"
      ]
     },
     "execution_count": 65,
     "metadata": {},
     "output_type": "execute_result"
    }
   ],
   "source": [
    "math.pi"
   ]
  },
  {
   "cell_type": "code",
   "execution_count": 67,
   "id": "3ebbe76d-524f-4a82-9d7f-72f20ee8d13d",
   "metadata": {},
   "outputs": [
    {
     "name": "stdin",
     "output_type": "stream",
     "text": [
      " 3.141592653589793\n"
     ]
    },
    {
     "name": "stdout",
     "output_type": "stream",
     "text": [
      "Está en el rango entre -5 y 5\n"
     ]
    }
   ],
   "source": [
    "rango()"
   ]
  },
  {
   "cell_type": "code",
   "execution_count": null,
   "id": "f4bd2993-b043-45a4-8a58-0acb0629f867",
   "metadata": {},
   "outputs": [],
   "source": [
    "# 3. Escriba una secuencia de instrucciones que permitan leer las coordenadas de un punt(x, y) e indique en cual de los cuadrantes se\n",
    "# encuentra el punto"
   ]
  },
  {
   "cell_type": "code",
   "execution_count": 95,
   "id": "5e99c622-14c5-4215-8346-3c08ef5225f6",
   "metadata": {},
   "outputs": [],
   "source": [
    "def coordenadas(x, y):\n",
    "    # La función recibe dos parámetros x, y y determina el cuadrante en el que se encuentra la coordenada\n",
    "    # Se evalúan las posibilidades\n",
    "    if(x == 0 and y != 0):\n",
    "        print(\"El punto está sobre el eje vertical\")\n",
    "    elif(y == 0 and x != 0):\n",
    "        print(\"El punto está sobre el eje horizontal\")\n",
    "    elif(x == 0 and y == 0):\n",
    "        print(\"Está en el cruce del plano cartesiano imaginario\")\n",
    "\n",
    "    # Si el valor de X es mayor a 0, el punto está sobre el cuadran 1 o 4, de lo contrario en el 2 o 3\n",
    "    # Si Y es mayor a 0, la coordenada está en el cuadrante 1 o 2, de lo contrario en 3 o 4\n",
    "    if(x < 0 and y < 0):\n",
    "        print(\"Cuadrante 3\")\n",
    "    elif(x > 0 and y > 0):\n",
    "        print(\"Cuadrante 1\")\n",
    "    elif(x > 0 and y < 0):\n",
    "        print(\"Cuadrante 4\")\n",
    "    elif(x < 0 and y > 0):\n",
    "        print(\"Cuadrante 2\")"
   ]
  },
  {
   "cell_type": "code",
   "execution_count": 97,
   "id": "f4eb0ea5-d4af-447c-a69c-1d535e942258",
   "metadata": {},
   "outputs": [
    {
     "name": "stdout",
     "output_type": "stream",
     "text": [
      "Está en el cruce del plano cartesiano imaginario\n"
     ]
    }
   ],
   "source": [
    "coordenadas (0, 0)"
   ]
  },
  {
   "cell_type": "code",
   "execution_count": 77,
   "id": "fda78085-9064-4724-9430-76d9d65f461a",
   "metadata": {},
   "outputs": [
    {
     "name": "stdout",
     "output_type": "stream",
     "text": [
      "Cuadrante 1\n"
     ]
    }
   ],
   "source": [
    "coordenadas(3, 4)"
   ]
  },
  {
   "cell_type": "code",
   "execution_count": 79,
   "id": "81e50a34-d37c-404d-8378-58e033af2528",
   "metadata": {},
   "outputs": [
    {
     "name": "stdout",
     "output_type": "stream",
     "text": [
      "Cuadrante 2\n"
     ]
    }
   ],
   "source": [
    "coordenadas(-2, 3)"
   ]
  },
  {
   "cell_type": "code",
   "execution_count": 81,
   "id": "2cbcdd21-7fe7-44a1-b030-d5e1e480bee9",
   "metadata": {},
   "outputs": [
    {
     "name": "stdout",
     "output_type": "stream",
     "text": [
      "Cuadrante 3\n"
     ]
    }
   ],
   "source": [
    "coordenadas (-1, -1)"
   ]
  },
  {
   "cell_type": "code",
   "execution_count": 83,
   "id": "87689c29-e554-44b7-92c7-364cb2ea78a7",
   "metadata": {},
   "outputs": [
    {
     "name": "stdout",
     "output_type": "stream",
     "text": [
      "El punto está sobre el eje vertical\n"
     ]
    }
   ],
   "source": [
    "coordenadas (0, 0)"
   ]
  },
  {
   "cell_type": "code",
   "execution_count": null,
   "id": "cedc2bb4-dd66-4ee0-a3ea-409b946b7d8e",
   "metadata": {},
   "outputs": [],
   "source": [
    "# 4. Escribe una secuencia de número enteros y que muestre el cociente de la división entera y el resto de la\n",
    "# de la división entera"
   ]
  },
  {
   "cell_type": "code",
   "execution_count": 107,
   "id": "e9fa00d2-4e0f-477e-b6e6-2eb2f560beab",
   "metadata": {},
   "outputs": [],
   "source": [
    "def cocientes():\n",
    "    dividendo = input(\"Dividendo: \")\n",
    "    divisor = input(\"Divisor: \")\n",
    "\n",
    "    # Se realizan los conversiones pertinentes\n",
    "    parte_entera = int(dividendo) // int(divisor)\n",
    "    resto = int(dividendo) % int(divisor)\n",
    "    return (print(f\"Cociente: {parte_entera}\"), print(f\"Resto: {resto}\"))"
   ]
  },
  {
   "cell_type": "code",
   "execution_count": 111,
   "id": "fbeec9f0-b7af-45c2-866c-e87c1b3173a2",
   "metadata": {},
   "outputs": [
    {
     "name": "stdin",
     "output_type": "stream",
     "text": [
      "Dividendo:  15\n",
      "Divisor:  2\n"
     ]
    },
    {
     "name": "stdout",
     "output_type": "stream",
     "text": [
      "Cociente: 7\n",
      "Resto: 1\n"
     ]
    },
    {
     "data": {
      "text/plain": [
       "(None, None)"
      ]
     },
     "execution_count": 111,
     "metadata": {},
     "output_type": "execute_result"
    }
   ],
   "source": [
    "cocientes()"
   ]
  },
  {
   "cell_type": "code",
   "execution_count": null,
   "id": "c997f8a4-c700-4f70-a48b-996445c4639d",
   "metadata": {},
   "outputs": [],
   "source": [
    "# 5. Escriba una función que determine si un número es cuadrado perfecto. La función debe indicar si es o no"
   ]
  },
  {
   "cell_type": "code",
   "execution_count": 115,
   "id": "2e0b3a85-8619-4811-b478-b7f1066c235f",
   "metadata": {},
   "outputs": [],
   "source": [
    "def numcuadper(numero):\n",
    "    # Algunas validaciones\n",
    "    if(numero < 0):\n",
    "        print(\"No hay números negativos que sean cuadrados perfectos\")\n",
    "    else:\n",
    "        raiz = math.sqrt(numero)\n",
    "        if(raiz.is_integer()):\n",
    "            print(\"Es un número cuadrado perfecto\")\n",
    "        else:\n",
    "            print(\"No es un NCP\")\n",
    "    return numero"
   ]
  },
  {
   "cell_type": "code",
   "execution_count": 119,
   "id": "755a0ce1-40a4-4569-913f-2a09a2025bcb",
   "metadata": {},
   "outputs": [
    {
     "name": "stdout",
     "output_type": "stream",
     "text": [
      "Es un número cuadrado perfecto\n"
     ]
    },
    {
     "data": {
      "text/plain": [
       "9"
      ]
     },
     "execution_count": 119,
     "metadata": {},
     "output_type": "execute_result"
    }
   ],
   "source": [
    "numcuadper(9)"
   ]
  },
  {
   "cell_type": "code",
   "execution_count": 157,
   "id": "4b28c16f-64f4-46d4-83b7-39f816b8d6c5",
   "metadata": {},
   "outputs": [],
   "source": [
    "def anio_bisiesto(anio):\n",
    "    if(anio % 4 == 0 and anio % 100 == 0):\n",
    "        print(f\"{anio} es bisiesto\")\n",
    "    elif(anio % 100 == 0):\n",
    "        print(f\"{anio} no es un año bisiesto\")\n",
    "    elif(anio % 4 == 0):\n",
    "        print(f\"{anio} es un año bisiesto\")\n",
    "    else:\n",
    "        print(f\"{anio} no es bisiesto\")"
   ]
  },
  {
   "cell_type": "code",
   "execution_count": 159,
   "id": "86ab0a25-4eff-4686-a94c-a6ae9c528b53",
   "metadata": {},
   "outputs": [
    {
     "name": "stdout",
     "output_type": "stream",
     "text": [
      "2005 no es bisiesto\n"
     ]
    }
   ],
   "source": [
    "anio_bisiesto(2005)"
   ]
  },
  {
   "cell_type": "code",
   "execution_count": 161,
   "id": "f2110e9e-9c90-424b-818f-8d1dd6dec3a5",
   "metadata": {},
   "outputs": [
    {
     "name": "stdout",
     "output_type": "stream",
     "text": [
      "2008 es un año bisiesto\n"
     ]
    }
   ],
   "source": [
    "anio_bisiesto(2008)"
   ]
  },
  {
   "cell_type": "code",
   "execution_count": null,
   "id": "6473fa53-c52b-44f7-a554-bd9198bdbbb3",
   "metadata": {},
   "outputs": [],
   "source": [
    "# 6. Escribe una función que determine si una casilla de un tablero de ajedrez en blanca o negra"
   ]
  },
  {
   "cell_type": "code",
   "execution_count": 195,
   "id": "662e6f05-b622-4a24-8a53-182fd586e464",
   "metadata": {},
   "outputs": [],
   "source": [
    "def blanca_negra(x, y):\n",
    "    # El tablero va de la A la H en X, del 1 al 8 en Y.\n",
    "    # A, C, E y G en 1 son negras. B, D, F y H en 1 son blancas\n",
    "    x = x.lower()\n",
    "    if(x.lower() == 'a' or x.lower() == 'c' or x.lower() == 'e' or x.lower() == 'g'):\n",
    "        if(y % 2 == 1):\n",
    "            print('Es negra')\n",
    "        else:\n",
    "            print('Es blanca')\n",
    "    elif(x.lower() == 'b' or x.lower() == 'd' or x.lower() == 'f' or x.lower() == 'h'):\n",
    "        if(y % 2 == 0):\n",
    "            print('Es negra')\n",
    "        else:\n",
    "            print('Es blanca')"
   ]
  },
  {
   "cell_type": "code",
   "execution_count": 203,
   "id": "b9b0eb88-0e89-4a17-bb75-429a7bfb6669",
   "metadata": {},
   "outputs": [
    {
     "name": "stdout",
     "output_type": "stream",
     "text": [
      "Es negra\n"
     ]
    }
   ],
   "source": [
    "blanca_negra('C', 5)"
   ]
  },
  {
   "cell_type": "code",
   "execution_count": null,
   "id": "49e9a58f-6d50-4e0a-b276-ab8ce5064a85",
   "metadata": {},
   "outputs": [],
   "source": []
  },
  {
   "cell_type": "code",
   "execution_count": null,
   "id": "57774aaf-3c69-412c-9bcc-6e451ea91446",
   "metadata": {},
   "outputs": [],
   "source": []
  },
  {
   "cell_type": "code",
   "execution_count": null,
   "id": "4fde6a81-39d0-4185-8cf4-16a889c7f73c",
   "metadata": {},
   "outputs": [],
   "source": []
  },
  {
   "cell_type": "code",
   "execution_count": null,
   "id": "5fa9ccd2-5941-45f1-9117-98004efbd55f",
   "metadata": {},
   "outputs": [],
   "source": []
  },
  {
   "cell_type": "code",
   "execution_count": null,
   "id": "bc0d0a8d-348e-4927-9745-dff07ff85869",
   "metadata": {},
   "outputs": [],
   "source": []
  },
  {
   "cell_type": "code",
   "execution_count": null,
   "id": "df8ad8c0-433b-49d7-b4c5-b219daa34471",
   "metadata": {},
   "outputs": [],
   "source": []
  },
  {
   "cell_type": "code",
   "execution_count": null,
   "id": "321bfcc2-c4f9-4f29-b67a-eb0a3e2212c8",
   "metadata": {},
   "outputs": [],
   "source": []
  },
  {
   "cell_type": "code",
   "execution_count": null,
   "id": "3986f722-c8ac-43e6-bfd0-1f3babe35f49",
   "metadata": {},
   "outputs": [],
   "source": []
  },
  {
   "cell_type": "code",
   "execution_count": null,
   "id": "16e196d5-f98f-49ef-a37b-1565c903e865",
   "metadata": {},
   "outputs": [],
   "source": []
  },
  {
   "cell_type": "code",
   "execution_count": null,
   "id": "197f2ed0-dfb6-49c3-9b03-20bf5f46dd49",
   "metadata": {},
   "outputs": [],
   "source": []
  },
  {
   "cell_type": "code",
   "execution_count": null,
   "id": "97fa7477-0d4b-4875-bd4e-7ba51c73d545",
   "metadata": {},
   "outputs": [],
   "source": []
  },
  {
   "cell_type": "code",
   "execution_count": null,
   "id": "7a7c6a21-0ea0-4eeb-bd7f-37edc4121576",
   "metadata": {},
   "outputs": [],
   "source": []
  },
  {
   "cell_type": "code",
   "execution_count": null,
   "id": "fe0e4f61-dfc1-43c3-ba95-97f59d10f952",
   "metadata": {},
   "outputs": [],
   "source": []
  },
  {
   "cell_type": "code",
   "execution_count": null,
   "id": "04d41d0f-0b43-4f06-9614-2dac4806c5e6",
   "metadata": {},
   "outputs": [],
   "source": []
  },
  {
   "cell_type": "code",
   "execution_count": null,
   "id": "f4da5ab5-5f68-43ea-b20a-76122f94939a",
   "metadata": {},
   "outputs": [],
   "source": []
  },
  {
   "cell_type": "code",
   "execution_count": null,
   "id": "3cd37eec-2152-46f8-b1a2-1800bd1d24da",
   "metadata": {},
   "outputs": [],
   "source": []
  },
  {
   "cell_type": "code",
   "execution_count": null,
   "id": "8b8c77fb-9099-4ec6-93ad-0a957fcb8af8",
   "metadata": {},
   "outputs": [],
   "source": []
  },
  {
   "cell_type": "code",
   "execution_count": null,
   "id": "46866807-61d9-47b7-be55-9b850b0cb03f",
   "metadata": {},
   "outputs": [],
   "source": []
  },
  {
   "cell_type": "code",
   "execution_count": null,
   "id": "22320929-7304-451f-ab5a-770356cc62d9",
   "metadata": {},
   "outputs": [],
   "source": []
  }
 ],
 "metadata": {
  "kernelspec": {
   "display_name": "Python [conda env:base] *",
   "language": "python",
   "name": "conda-base-py"
  },
  "language_info": {
   "codemirror_mode": {
    "name": "ipython",
    "version": 3
   },
   "file_extension": ".py",
   "mimetype": "text/x-python",
   "name": "python",
   "nbconvert_exporter": "python",
   "pygments_lexer": "ipython3",
   "version": "3.12.7"
  }
 },
 "nbformat": 4,
 "nbformat_minor": 5
}
