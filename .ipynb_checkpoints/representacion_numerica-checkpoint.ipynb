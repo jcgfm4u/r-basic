{
 "cells": [
  {
   "cell_type": "code",
   "execution_count": 16,
   "id": "43acefc0-9f30-4d75-a220-bb81951b77c7",
   "metadata": {},
   "outputs": [
    {
     "data": {
      "text/plain": [
       "3.141592653589793"
      ]
     },
     "execution_count": 16,
     "metadata": {},
     "output_type": "execute_result"
    }
   ],
   "source": [
    "math.pi"
   ]
  },
  {
   "cell_type": "code",
   "execution_count": 24,
   "id": "709afaff-9471-4726-9755-e7d155b3ea8d",
   "metadata": {},
   "outputs": [
    {
     "data": {
      "text/plain": [
       "2.718281828459045"
      ]
     },
     "execution_count": 24,
     "metadata": {},
     "output_type": "execute_result"
    }
   ],
   "source": [
    "math.e"
   ]
  },
  {
   "cell_type": "code",
   "execution_count": 26,
   "id": "7d043464-fe97-4833-858b-15caae9a8f61",
   "metadata": {},
   "outputs": [
    {
     "data": {
      "text/plain": [
       "6.283185307179586"
      ]
     },
     "execution_count": 26,
     "metadata": {},
     "output_type": "execute_result"
    }
   ],
   "source": [
    "math.tau"
   ]
  },
  {
   "cell_type": "code",
   "execution_count": 32,
   "id": "5e595b4f-4aa2-47c7-9909-ed4198557e16",
   "metadata": {},
   "outputs": [
    {
     "data": {
      "text/plain": [
       "6.283185307179586"
      ]
     },
     "execution_count": 32,
     "metadata": {},
     "output_type": "execute_result"
    }
   ],
   "source": [
    "math.pi*2"
   ]
  },
  {
   "cell_type": "code",
   "execution_count": 34,
   "id": "82e10e13-f1d6-49f6-88df-24793dbe7e31",
   "metadata": {},
   "outputs": [],
   "source": [
    "tau = math.pi * 2"
   ]
  },
  {
   "cell_type": "code",
   "execution_count": 36,
   "id": "fdcce8fa-a5bc-42ff-a917-f4648b67ab11",
   "metadata": {},
   "outputs": [
    {
     "data": {
      "text/plain": [
       "6.283185307179586"
      ]
     },
     "execution_count": 36,
     "metadata": {},
     "output_type": "execute_result"
    }
   ],
   "source": [
    "tau"
   ]
  },
  {
   "cell_type": "markdown",
   "id": "c94a0527-7440-41a7-8b5d-35d506de5d2a",
   "metadata": {},
   "source": [
    "# Representación numérica"
   ]
  },
  {
   "cell_type": "code",
   "execution_count": 39,
   "id": "32127f19-f93e-4bd2-8920-c7de987d3055",
   "metadata": {},
   "outputs": [
    {
     "data": {
      "text/plain": [
       "4"
      ]
     },
     "execution_count": 39,
     "metadata": {},
     "output_type": "execute_result"
    }
   ],
   "source": [
    "2+2"
   ]
  },
  {
   "cell_type": "code",
   "execution_count": 41,
   "id": "6536c86e-79e1-4f63-8f73-e2233eca7cf2",
   "metadata": {},
   "outputs": [
    {
     "data": {
      "text/plain": [
       "4"
      ]
     },
     "execution_count": 41,
     "metadata": {},
     "output_type": "execute_result"
    }
   ],
   "source": [
    "math.ceil(3.4533)"
   ]
  },
  {
   "cell_type": "code",
   "execution_count": 43,
   "id": "5b213c55-01e8-49d4-99b7-fce9574de3e3",
   "metadata": {},
   "outputs": [
    {
     "data": {
      "text/plain": [
       "3"
      ]
     },
     "execution_count": 43,
     "metadata": {},
     "output_type": "execute_result"
    }
   ],
   "source": [
    "math.floor(3.4533)"
   ]
  },
  {
   "cell_type": "code",
   "execution_count": 45,
   "id": "e96ea370-f322-410d-9cad-5c77ec6551b4",
   "metadata": {},
   "outputs": [
    {
     "data": {
      "text/plain": [
       "1"
      ]
     },
     "execution_count": 45,
     "metadata": {},
     "output_type": "execute_result"
    }
   ],
   "source": [
    " 7%3"
   ]
  },
  {
   "cell_type": "code",
   "execution_count": 47,
   "id": "ab59a554-a030-4c31-9f25-f6d906375f51",
   "metadata": {},
   "outputs": [
    {
     "data": {
      "text/plain": [
       "12"
      ]
     },
     "execution_count": 47,
     "metadata": {},
     "output_type": "execute_result"
    }
   ],
   "source": [
    "math.gcd(24, 36)"
   ]
  },
  {
   "cell_type": "code",
   "execution_count": null,
   "id": "27d5ee1a-0b21-4c71-9d88-279a40821941",
   "metadata": {},
   "outputs": [],
   "source": []
  },
  {
   "cell_type": "code",
   "execution_count": null,
   "id": "bfd43651-84bf-41dd-8ce5-9ad34d4655e8",
   "metadata": {},
   "outputs": [],
   "source": []
  },
  {
   "cell_type": "code",
   "execution_count": null,
   "id": "06476be8-e0c3-42a1-ab65-21b01f577fd4",
   "metadata": {},
   "outputs": [],
   "source": []
  }
 ],
 "metadata": {
  "kernelspec": {
   "display_name": "Python [conda env:base] *",
   "language": "python",
   "name": "conda-base-py"
  },
  "language_info": {
   "codemirror_mode": {
    "name": "ipython",
    "version": 3
   },
   "file_extension": ".py",
   "mimetype": "text/x-python",
   "name": "python",
   "nbconvert_exporter": "python",
   "pygments_lexer": "ipython3",
   "version": "3.12.7"
  }
 },
 "nbformat": 4,
 "nbformat_minor": 5
}
