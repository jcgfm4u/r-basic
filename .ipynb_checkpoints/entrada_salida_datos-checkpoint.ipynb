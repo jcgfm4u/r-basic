{
 "cells": [
  {
   "cell_type": "markdown",
   "id": "51f22637-106b-465d-9791-487d751a8a7a",
   "metadata": {},
   "source": [
    "# Entrada y salida de datos\n"
   ]
  },
  {
   "cell_type": "code",
   "execution_count": null,
   "id": "1185c26b-a04a-46a2-8090-0c9773c88280",
   "metadata": {},
   "outputs": [],
   "source": []
  },
  {
   "cell_type": "code",
   "execution_count": 2,
   "id": "31150198-500e-4143-976f-8f8c04422fd0",
   "metadata": {},
   "outputs": [
    {
     "name": "stdout",
     "output_type": "stream",
     "text": [
      "Hola, me llamo Juan Carlos\n"
     ]
    }
   ],
   "source": [
    "print(\"Hola, me llamo Juan Carlos\")"
   ]
  },
  {
   "cell_type": "code",
   "execution_count": 4,
   "id": "66c66386-14a9-426b-a08d-3656f72c60c7",
   "metadata": {},
   "outputs": [
    {
     "name": "stdout",
     "output_type": "stream",
     "text": [
      "5\n"
     ]
    }
   ],
   "source": [
    "x = 5\n",
    "print(x)"
   ]
  },
  {
   "cell_type": "code",
   "execution_count": 6,
   "id": "5d30ce30-0df2-4042-92e8-1acf0ee70c7d",
   "metadata": {},
   "outputs": [
    {
     "name": "stdout",
     "output_type": "stream",
     "text": [
      "El valor de X es: 5\n"
     ]
    }
   ],
   "source": [
    "print(\"El valor de X es: \" + str(x))\n"
   ]
  },
  {
   "cell_type": "code",
   "execution_count": 9,
   "id": "4727ca44-79e9-42b2-be35-a3f12057f878",
   "metadata": {},
   "outputs": [
    {
     "name": "stdin",
     "output_type": "stream",
     "text": [
      "Introduce aquí tu nombre:  JUAN CARLOS FARIAS\n"
     ]
    }
   ],
   "source": [
    "texto = input(\"Introduce aquí tu nombre: \")"
   ]
  },
  {
   "cell_type": "markdown",
   "id": "79eb63eb-89ff-4c61-ae27-5c98855c248a",
   "metadata": {},
   "source": [
    "# Operadores de decisión\n"
   ]
  },
  {
   "cell_type": "markdown",
   "id": "c691873e-c694-469a-a932-830fedb847be",
   "metadata": {},
   "source": [
    "Los operadores de decisión nos ayudan a establecer un control de flujo, permitiendo qué sí y qué no se ejecuta"
   ]
  },
  {
   "cell_type": "code",
   "execution_count": 16,
   "id": "19bca39a-2781-4df1-9368-80c1967bd184",
   "metadata": {},
   "outputs": [
    {
     "name": "stdin",
     "output_type": "stream",
     "text": [
      "Introduzca un valor numérico:  11\n"
     ]
    },
    {
     "name": "stdout",
     "output_type": "stream",
     "text": [
      "El número es mayor a 10\n"
     ]
    }
   ],
   "source": [
    "numero = int(input(\"Introduzca un valor numérico: \"))\n",
    "if(numero < 10):\n",
    "    print(\"El número es menor a 10\")\n",
    "elif numero > 10:\n",
    "    print(\"El número es mayor a 10\")"
   ]
  },
  {
   "cell_type": "code",
   "execution_count": null,
   "id": "2f8e3db1-83c0-4f0c-bd0d-377c954be58b",
   "metadata": {},
   "outputs": [],
   "source": []
  },
  {
   "cell_type": "code",
   "execution_count": null,
   "id": "67ab774a-b82e-4fbd-a5d9-0f248d60065a",
   "metadata": {},
   "outputs": [],
   "source": []
  },
  {
   "cell_type": "code",
   "execution_count": null,
   "id": "e7752074-222d-4bd4-8638-e346fe1b3012",
   "metadata": {},
   "outputs": [],
   "source": []
  },
  {
   "cell_type": "code",
   "execution_count": null,
   "id": "76930bba-9fe4-4e47-af0b-87d059e9eec0",
   "metadata": {},
   "outputs": [],
   "source": []
  },
  {
   "cell_type": "code",
   "execution_count": null,
   "id": "e93caf5c-f953-4ec7-9673-52990864aa6d",
   "metadata": {},
   "outputs": [],
   "source": []
  },
  {
   "cell_type": "code",
   "execution_count": null,
   "id": "57b4555a-ebee-411f-8f8c-7e1b722940f5",
   "metadata": {},
   "outputs": [],
   "source": []
  },
  {
   "cell_type": "code",
   "execution_count": null,
   "id": "73cbdc77-d233-484c-9c80-d6dcfadda73b",
   "metadata": {},
   "outputs": [],
   "source": []
  },
  {
   "cell_type": "code",
   "execution_count": null,
   "id": "633f3d39-91c9-46dc-9066-420c0f54e5b7",
   "metadata": {},
   "outputs": [],
   "source": []
  }
 ],
 "metadata": {
  "kernelspec": {
   "display_name": "Python [conda env:base] *",
   "language": "python",
   "name": "conda-base-py"
  },
  "language_info": {
   "codemirror_mode": {
    "name": "ipython",
    "version": 3
   },
   "file_extension": ".py",
   "mimetype": "text/x-python",
   "name": "python",
   "nbconvert_exporter": "python",
   "pygments_lexer": "ipython3",
   "version": "3.12.7"
  }
 },
 "nbformat": 4,
 "nbformat_minor": 5
}
