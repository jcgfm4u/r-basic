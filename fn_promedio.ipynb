{
 "cells": [
  {
   "cell_type": "markdown",
   "id": "5259b859-f847-4f70-a6a7-e6e319ad54c4",
   "metadata": {},
   "source": [
    "# Función que calcula el promedio de de la sumatoria proporcionada por el usuario"
   ]
  },
  {
   "cell_type": "code",
   "execution_count": 80,
   "id": "5dd7d1a6-a52c-46fe-9fe3-687476029658",
   "metadata": {},
   "outputs": [],
   "source": [
    "def promedio():\n",
    "    # Autor: Jorge Arturo Farias Martinez\n",
    "    # Materia: Estadística Descriptiva\n",
    "    # Función para proemdiar valores\n",
    "\n",
    "    \n",
    "    # Se define la variable que almacenará los números\n",
    "    numeros = []\n",
    "\n",
    "    # Muestra al usuario el número de valor que está capturando como referencia\n",
    "    contador = 1\n",
    "    # Se le indica al usuario la captura de los números\n",
    "    print(\"Introduce los números uno por uno (dando Enter). Cuando haya terminado, escriba 'promediar' para realizar el cálculo.\")\n",
    "    while True:\n",
    "        captura = input(f\"{contador}: \")\n",
    "        # Con esta sentencia de control, se termina la captura de números. Sólo si recive promediar o PROMEDIAR\n",
    "        if(captura.lower() == 'promediar'):\n",
    "            break\n",
    "        try:\n",
    "            # Se realiza la conversión de cada dato recibido en la variable captura\n",
    "            numero = float(captura)\n",
    "            # Una vez realizada la conversión, se almacena en el arraglo numeros[]\n",
    "            numeros.append(numero)\n",
    "\n",
    "            # Se incrementa en +1 el contador de valores correctos\n",
    "            contador +=1\n",
    "        # En caso de capturar un dato incorrecto, la función se lo indicará al usuario\n",
    "        except ValueError:\n",
    "            print(f\"{captura} no es un valor numérico.\")\n",
    "\n",
    "    # Se verifica la cantidad de números que se van a promediar\n",
    "    if(len(numeros) == 0):\n",
    "        print('No hay datos válidos para realizar el cálculo.')\n",
    "        return None\n",
    "\n",
    "    # En caso de haber introucido valores correctos, se realiza el cálculo\n",
    "    promedio = sum(numeros) / len(numeros)\n",
    "    print(f\"Promedio: {promedio}\")\n",
    "    return promedio"
   ]
  },
  {
   "cell_type": "code",
   "execution_count": null,
   "id": "c00332c4-1cac-4933-aa25-5ea006c43bcd",
   "metadata": {},
   "outputs": [],
   "source": []
  },
  {
   "cell_type": "code",
   "execution_count": 78,
   "id": "223ff25c-a812-4d31-a67b-c5532b0eef1c",
   "metadata": {},
   "outputs": [
    {
     "name": "stdout",
     "output_type": "stream",
     "text": [
      "Introduce los números uno por uno (dando Enter). Cuando haya terminado, escriba 'promediar' para realizar el cálculo.\n"
     ]
    },
    {
     "name": "stdin",
     "output_type": "stream",
     "text": [
      "1:  60\n",
      "2:  45\n",
      "3:  h5\n"
     ]
    },
    {
     "name": "stdout",
     "output_type": "stream",
     "text": [
      "h5 no es un valor numérico.\n"
     ]
    },
    {
     "name": "stdin",
     "output_type": "stream",
     "text": [
      "3:  78\n",
      "4:  90\n",
      "5:  144\n",
      "6:  promediar\n"
     ]
    },
    {
     "name": "stdout",
     "output_type": "stream",
     "text": [
      "Promedio: 83.4\n"
     ]
    },
    {
     "data": {
      "text/plain": [
       "83.4"
      ]
     },
     "execution_count": 78,
     "metadata": {},
     "output_type": "execute_result"
    }
   ],
   "source": [
    "promedio()"
   ]
  },
  {
   "cell_type": "code",
   "execution_count": null,
   "id": "8456f970-a0bd-4f81-bf0c-9b2f8bb16cd5",
   "metadata": {},
   "outputs": [],
   "source": []
  },
  {
   "cell_type": "code",
   "execution_count": null,
   "id": "93403d7d-01f4-478d-9217-25a111a32a92",
   "metadata": {},
   "outputs": [],
   "source": []
  },
  {
   "cell_type": "code",
   "execution_count": null,
   "id": "90071cee-f6c5-4d69-a120-2ebe1855212a",
   "metadata": {},
   "outputs": [],
   "source": []
  },
  {
   "cell_type": "code",
   "execution_count": null,
   "id": "f33d1151-c1c6-4354-b779-74246af10548",
   "metadata": {},
   "outputs": [],
   "source": []
  },
  {
   "cell_type": "code",
   "execution_count": null,
   "id": "1c4cbe8a-9e24-413d-bc15-ec34f4ae7c9a",
   "metadata": {},
   "outputs": [],
   "source": []
  },
  {
   "cell_type": "code",
   "execution_count": null,
   "id": "ae7033e4-a176-4a6f-a45a-f50da823c4ae",
   "metadata": {},
   "outputs": [],
   "source": []
  },
  {
   "cell_type": "code",
   "execution_count": null,
   "id": "55238cbc-8a17-473e-b9d6-5cec4c021e6b",
   "metadata": {},
   "outputs": [],
   "source": []
  },
  {
   "cell_type": "code",
   "execution_count": null,
   "id": "fcaf51e1-de53-4331-951c-dd496e3b490a",
   "metadata": {},
   "outputs": [],
   "source": []
  },
  {
   "cell_type": "code",
   "execution_count": null,
   "id": "e20f3832-f1c8-42d7-9d09-9708179e51ef",
   "metadata": {},
   "outputs": [],
   "source": []
  },
  {
   "cell_type": "code",
   "execution_count": null,
   "id": "a62bb6be-928e-4191-928d-a05b740e88b6",
   "metadata": {},
   "outputs": [],
   "source": []
  },
  {
   "cell_type": "code",
   "execution_count": null,
   "id": "d8924d89-8e65-4e00-b32a-cd7019ce72a3",
   "metadata": {},
   "outputs": [],
   "source": []
  },
  {
   "cell_type": "code",
   "execution_count": null,
   "id": "e106b8a6-6359-4f38-b34b-61bd2cb5f3cb",
   "metadata": {},
   "outputs": [],
   "source": []
  },
  {
   "cell_type": "code",
   "execution_count": null,
   "id": "9e4e66c9-4cfd-4613-87fd-269f6b8d12e8",
   "metadata": {},
   "outputs": [],
   "source": []
  },
  {
   "cell_type": "code",
   "execution_count": null,
   "id": "fd605e74-4f71-485f-b867-ac21ade1e85d",
   "metadata": {},
   "outputs": [],
   "source": []
  }
 ],
 "metadata": {
  "kernelspec": {
   "display_name": "Python [conda env:base] *",
   "language": "python",
   "name": "conda-base-py"
  },
  "language_info": {
   "codemirror_mode": {
    "name": "ipython",
    "version": 3
   },
   "file_extension": ".py",
   "mimetype": "text/x-python",
   "name": "python",
   "nbconvert_exporter": "python",
   "pygments_lexer": "ipython3",
   "version": "3.12.7"
  }
 },
 "nbformat": 4,
 "nbformat_minor": 5
}
